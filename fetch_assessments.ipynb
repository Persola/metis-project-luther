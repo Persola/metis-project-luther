{
 "cells": [
  {
   "cell_type": "code",
   "execution_count": 25,
   "metadata": {},
   "outputs": [],
   "source": [
    "import pandas as pd\n",
    "import requests\n",
    "import re"
   ]
  },
  {
   "cell_type": "code",
   "execution_count": 26,
   "metadata": {},
   "outputs": [],
   "source": [
    "COMPANIES_FILENAME = 'top_ten.csv'\n",
    "PAGESPEED_BASE_URL = 'https://www.googleapis.com/pagespeedonline/v5/runPagespeed'\n",
    "with open('PAGESPEED_API_KEY') as key_file:\n",
    "  PAGESPEED_API_KEY = key_file.read().strip() # bad style? should be constant per run\n",
    "AUDIT_KEYS = [\n",
    "  'first-contentful-paint',\n",
    "  'speed-index',\n",
    "  'interactive',\n",
    "  'first-meaningful-paint',\n",
    "  'first-cpu-idle',\n",
    "  'estimated-input-latency'\n",
    "]"
   ]
  },
  {
   "cell_type": "code",
   "execution_count": 27,
   "metadata": {},
   "outputs": [
    {
     "data": {
      "text/html": [
       "<div>\n",
       "<style scoped>\n",
       "    .dataframe tbody tr th:only-of-type {\n",
       "        vertical-align: middle;\n",
       "    }\n",
       "\n",
       "    .dataframe tbody tr th {\n",
       "        vertical-align: top;\n",
       "    }\n",
       "\n",
       "    .dataframe thead th {\n",
       "        text-align: right;\n",
       "    }\n",
       "</style>\n",
       "<table border=\"1\" class=\"dataframe\">\n",
       "  <thead>\n",
       "    <tr style=\"text-align: right;\">\n",
       "      <th></th>\n",
       "      <th>name</th>\n",
       "      <th>web_url</th>\n",
       "    </tr>\n",
       "  </thead>\n",
       "  <tbody>\n",
       "    <tr>\n",
       "      <th>0</th>\n",
       "      <td>Microsoft Corp</td>\n",
       "      <td>https://www.microsoft.com/en-us/</td>\n",
       "    </tr>\n",
       "    <tr>\n",
       "      <th>1</th>\n",
       "      <td>Apple Inc.</td>\n",
       "      <td>https://www.apple.com/</td>\n",
       "    </tr>\n",
       "  </tbody>\n",
       "</table>\n",
       "</div>"
      ],
      "text/plain": [
       "             name                           web_url\n",
       "0  Microsoft Corp  https://www.microsoft.com/en-us/\n",
       "1      Apple Inc.            https://www.apple.com/"
      ]
     },
     "execution_count": 27,
     "metadata": {},
     "output_type": "execute_result"
    }
   ],
   "source": [
    "companies = pd.read_csv(COMPANIES_FILENAME)\n",
    "companies = companies.drop('ticker_symbol', axis=1)\n",
    "sample_companies = companies[:2]\n",
    "sample_companies"
   ]
  },
  {
   "cell_type": "code",
   "execution_count": 28,
   "metadata": {},
   "outputs": [],
   "source": [
    "def pagespeed_query_url(page):\n",
    "    return f'{PAGESPEED_BASE_URL}?url={page}&key={PAGESPEED_API_KEY}'\n"
   ]
  },
  {
   "cell_type": "code",
   "execution_count": 29,
   "metadata": {},
   "outputs": [],
   "source": [
    "[pagespeed_query_url(page) for page in companies[:3]['web_url']];"
   ]
  },
  {
   "cell_type": "code",
   "execution_count": 160,
   "metadata": {},
   "outputs": [],
   "source": [
    "resp = requests.get(url=PAGESPEED_BASE_URL, params={'url': page, 'key': PAGESPEED_API_KEY})"
   ]
  },
  {
   "cell_type": "markdown",
   "metadata": {},
   "source": [
    "[API doc](https://developers.google.com/speed/docs/insights/v5/reference/pagespeedapi/runpagespeed#response)"
   ]
  },
  {
   "cell_type": "code",
   "execution_count": 164,
   "metadata": {},
   "outputs": [],
   "source": [
    "def unit(display_value):\n",
    "    return re.search('\\w+$', display_value)[0]\n",
    "\n",
    "def verify_units(audits):\n",
    "    for key in AUDIT_KEYS:\n",
    "        if key == 'estimated-input-latency':\n",
    "            if unit(audits[key]['displayValue']) != 'ms':\n",
    "                raise BaseException('expected to always receive milliseconds')\n",
    "        else:\n",
    "            if unit(audits[key]['displayValue']) != 's':\n",
    "                raise BaseException('expected to always receive seconds')\n",
    "            "
   ]
  },
  {
   "cell_type": "code",
   "execution_count": 177,
   "metadata": {},
   "outputs": [],
   "source": [
    "def displayToFloat(displayValue):\n",
    "    return float(re.search('^\\d+\\.?\\d*', displayValue)[0])"
   ]
  },
  {
   "cell_type": "code",
   "execution_count": 166,
   "metadata": {},
   "outputs": [],
   "source": [
    "def audits(response):\n",
    "    audits = response.json()['lighthouseResult']['audits']\n",
    "    verify_units(audits)\n",
    "    return {\n",
    "        audit_key : displayToFloat(audits[audit_key]['displayValue'])\n",
    "        for audit_key in AUDIT_KEYS\n",
    "    }"
   ]
  },
  {
   "cell_type": "code",
   "execution_count": 178,
   "metadata": {
    "scrolled": true
   },
   "outputs": [
    {
     "data": {
      "text/plain": [
       "{'first-contentful-paint': 0.6,\n",
       " 'speed-index': 3.0,\n",
       " 'interactive': 0.6,\n",
       " 'first-meaningful-paint': 0.6,\n",
       " 'first-cpu-idle': 0.6,\n",
       " 'estimated-input-latency': 10.0}"
      ]
     },
     "execution_count": 178,
     "metadata": {},
     "output_type": "execute_result"
    }
   ],
   "source": [
    "audits(resp)"
   ]
  }
 ],
 "metadata": {
  "kernelspec": {
   "display_name": "Python 3",
   "language": "python",
   "name": "python3"
  },
  "language_info": {
   "codemirror_mode": {
    "name": "ipython",
    "version": 3
   },
   "file_extension": ".py",
   "mimetype": "text/x-python",
   "name": "python",
   "nbconvert_exporter": "python",
   "pygments_lexer": "ipython3",
   "version": "3.7.0"
  }
 },
 "nbformat": 4,
 "nbformat_minor": 2
}
