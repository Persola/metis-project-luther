{
 "cells": [
  {
   "cell_type": "code",
   "execution_count": 1,
   "metadata": {},
   "outputs": [],
   "source": [
    "import uuid\n",
    "import pandas as pd\n",
    "from pathlib import Path\n",
    "import requests\n",
    "import re\n",
    "import csv\n",
    "import datetime\n",
    "import time\n",
    "from threading import Thread"
   ]
  },
  {
   "cell_type": "code",
   "execution_count": 2,
   "metadata": {},
   "outputs": [],
   "source": [
    "COMPANIES_FILENAME = 'top_ten.csv'\n",
    "LOG_FILENAME = 'data_acquisition_log'\n",
    "PAGESPEED_RESULTS_DIR= 'pagespeed_results'\n",
    "INDEED_RATINGS_DIR = 'indeed_ratings'\n",
    "PAGESPEED_BASE_URL = 'https://www.googleapis.com/pagespeedonline/v5/runPagespeed'\n",
    "with open('PAGESPEED_API_KEY') as key_file:\n",
    "  PAGESPEED_API_KEY = key_file.read().strip() # bad style? should be constant per run\n",
    "AUDIT_KEYS = [\n",
    "  'first-contentful-paint',\n",
    "  'speed-index',\n",
    "  'interactive',\n",
    "  'first-meaningful-paint',\n",
    "  'first-cpu-idle',\n",
    "  'estimated-input-latency'\n",
    "]\n",
    "METADATA_KEYS = ['url']\n",
    "RESULT_KEYS = METADATA_KEYS + AUDIT_KEYS\n",
    "TRUNCATE_COMPANIES = None"
   ]
  },
  {
   "cell_type": "code",
   "execution_count": 3,
   "metadata": {},
   "outputs": [],
   "source": [
    "def last_modified_path(dir_name):\n",
    "    paths = Path(dir_name).glob('*')\n",
    "    return max(paths, key=lambda path: path.stat().st_ctime)"
   ]
  },
  {
   "cell_type": "code",
   "execution_count": 4,
   "metadata": {},
   "outputs": [],
   "source": [
    "leaky_companies = pd.read_csv(last_modified_path(INDEED_RATINGS_DIR))\n",
    "companies = leaky_companies.drop('indeed_rating', axis=1).dropna()\n",
    "del leaky_companies"
   ]
  },
  {
   "cell_type": "code",
   "execution_count": 5,
   "metadata": {},
   "outputs": [],
   "source": [
    "fetch_id = str(uuid.uuid4())"
   ]
  },
  {
   "cell_type": "code",
   "execution_count": 6,
   "metadata": {},
   "outputs": [],
   "source": [
    "def make_pagespeed_request(page):\n",
    "    return requests.get(\n",
    "        url=PAGESPEED_BASE_URL,\n",
    "        params={\n",
    "            'url': page,\n",
    "            'key': PAGESPEED_API_KEY\n",
    "        }\n",
    "    )"
   ]
  },
  {
   "cell_type": "code",
   "execution_count": 7,
   "metadata": {},
   "outputs": [],
   "source": [
    "def unit(display_value):\n",
    "    return re.search('\\w+$', display_value)[0]\n",
    "\n",
    "def verify_units(audits):\n",
    "    for key in AUDIT_KEYS:\n",
    "        if key == 'estimated-input-latency':\n",
    "            if unit(audits[key]['displayValue']) != 'ms':\n",
    "                raise BaseException('expected to always receive milliseconds')\n",
    "        else:\n",
    "            if unit(audits[key]['displayValue']) != 's':\n",
    "                raise BaseException('expected to always receive seconds')\n",
    "            "
   ]
  },
  {
   "cell_type": "code",
   "execution_count": 8,
   "metadata": {},
   "outputs": [],
   "source": [
    "def displayToFloat(displayValue):\n",
    "    return float(re.search('^\\d+\\.?\\d*', displayValue)[0])"
   ]
  },
  {
   "cell_type": "code",
   "execution_count": 9,
   "metadata": {},
   "outputs": [],
   "source": [
    "def audits(response):\n",
    "    audits = response.json()['lighthouseResult']['audits']\n",
    "    verify_units(audits)\n",
    "    return {\n",
    "        audit_key : displayToFloat(audits[audit_key]['displayValue'])\n",
    "        for audit_key in AUDIT_KEYS\n",
    "    }"
   ]
  },
  {
   "cell_type": "code",
   "execution_count": 10,
   "metadata": {},
   "outputs": [],
   "source": [
    "def site_row(url):\n",
    "    print(url)\n",
    "    return dict(\n",
    "        audits(make_pagespeed_request(url)),\n",
    "        url=url\n",
    "    )"
   ]
  },
  {
   "cell_type": "code",
   "execution_count": 11,
   "metadata": {},
   "outputs": [],
   "source": [
    "def store_result(results, result_ind, url):\n",
    "    results[result_ind] = site_row(url)"
   ]
  },
  {
   "cell_type": "code",
   "execution_count": 12,
   "metadata": {
    "scrolled": false
   },
   "outputs": [
    {
     "name": "stdout",
     "output_type": "stream",
     "text": [
      "http://www.abbott.com\n",
      "https://www.abbvie.com\n",
      "http://www.abiomed.com\n",
      "http://www.accenture.com/\n",
      "http://www.adobe.com\n",
      "http://www.amd.com/\n",
      "http://www.advanceautoparts.com/\n",
      "http://www.aes.com/home/default.aspx\n",
      "http://www.aflac.com\n",
      "http://careers.agilent.com/\n",
      "https://www.instagram.com/akamaicareers\n",
      "http://alaskaair.jobs\n",
      "http://www.albemarle.org\n",
      "http://www.alexionpharm.com\n",
      "http://www.allegion.com/corp/en/home/contact-us.html\n",
      "http://www.allergan.com\n",
      "http://www.alliancedata.com/\n",
      "http://www.allstate.jobs/\n",
      "http://www.altria.com/Pages/default.aspx\n",
      "http://amazon.jobs/\n",
      "http://www.ameren.com\n",
      "http://jobs.aa.com\n"
     ]
    },
    {
     "name": "stderr",
     "output_type": "stream",
     "text": [
      "Exception in thread Thread-7:\n",
      "Traceback (most recent call last):\n",
      "  File \"/Users/lu/.pyenv/versions/3.7.0/lib/python3.7/threading.py\", line 917, in _bootstrap_inner\n",
      "    self.run()\n",
      "  File \"/Users/lu/.pyenv/versions/3.7.0/lib/python3.7/threading.py\", line 865, in run\n",
      "    self._target(*self._args, **self._kwargs)\n",
      "  File \"<ipython-input-11-b2a9a667430c>\", line 2, in store_result\n",
      "    results[result_ind] = site_row(url)\n",
      "  File \"<ipython-input-10-fa60d633b50b>\", line 4, in site_row\n",
      "    audits(make_pagespeed_request(url)),\n",
      "  File \"<ipython-input-9-86189f674be5>\", line 2, in audits\n",
      "    audits = response.json()['lighthouseResult']['audits']\n",
      "KeyError: 'lighthouseResult'\n",
      "\n"
     ]
    },
    {
     "name": "stdout",
     "output_type": "stream",
     "text": [
      "http://www.aep.com/\n",
      "http://Careers.americanexpress.com\n",
      "http://www.aig.com/careers\n",
      "http://www.americantower.com\n",
      "http://www.ameriprise.com\n"
     ]
    },
    {
     "name": "stderr",
     "output_type": "stream",
     "text": [
      "Exception in thread Thread-15:\n",
      "Traceback (most recent call last):\n",
      "  File \"/Users/lu/.pyenv/versions/3.7.0/lib/python3.7/threading.py\", line 917, in _bootstrap_inner\n",
      "    self.run()\n",
      "  File \"/Users/lu/.pyenv/versions/3.7.0/lib/python3.7/threading.py\", line 865, in run\n",
      "    self._target(*self._args, **self._kwargs)\n",
      "  File \"<ipython-input-11-b2a9a667430c>\", line 2, in store_result\n",
      "    results[result_ind] = site_row(url)\n",
      "  File \"<ipython-input-10-fa60d633b50b>\", line 4, in site_row\n",
      "    audits(make_pagespeed_request(url)),\n",
      "  File \"<ipython-input-9-86189f674be5>\", line 2, in audits\n",
      "    audits = response.json()['lighthouseResult']['audits']\n",
      "KeyError: 'lighthouseResult'\n",
      "\n"
     ]
    },
    {
     "name": "stdout",
     "output_type": "stream",
     "text": [
      "http://www.amerisourcebergen.com\n",
      "http://www.amgen.com\n"
     ]
    },
    {
     "name": "stderr",
     "output_type": "stream",
     "text": [
      "Exception in thread Thread-17:\n",
      "Traceback (most recent call last):\n",
      "  File \"/Users/lu/.pyenv/versions/3.7.0/lib/python3.7/threading.py\", line 917, in _bootstrap_inner\n",
      "    self.run()\n",
      "  File \"/Users/lu/.pyenv/versions/3.7.0/lib/python3.7/threading.py\", line 865, in run\n",
      "    self._target(*self._args, **self._kwargs)\n",
      "  File \"<ipython-input-11-b2a9a667430c>\", line 2, in store_result\n",
      "    results[result_ind] = site_row(url)\n",
      "  File \"<ipython-input-10-fa60d633b50b>\", line 4, in site_row\n",
      "    audits(make_pagespeed_request(url)),\n",
      "  File \"<ipython-input-9-86189f674be5>\", line 2, in audits\n",
      "    audits = response.json()['lighthouseResult']['audits']\n",
      "KeyError: 'lighthouseResult'\n",
      "\n"
     ]
    },
    {
     "name": "stdout",
     "output_type": "stream",
     "text": [
      "http://www.anadarko.com\n",
      "http://careers.antheminc.com/\n",
      "http://www.aon.com\n"
     ]
    },
    {
     "name": "stderr",
     "output_type": "stream",
     "text": [
      "Exception in thread Thread-21:\n",
      "Traceback (most recent call last):\n",
      "  File \"/Users/lu/.pyenv/versions/3.7.0/lib/python3.7/threading.py\", line 917, in _bootstrap_inner\n",
      "    self.run()\n",
      "  File \"/Users/lu/.pyenv/versions/3.7.0/lib/python3.7/threading.py\", line 865, in run\n",
      "    self._target(*self._args, **self._kwargs)\n",
      "  File \"<ipython-input-11-b2a9a667430c>\", line 2, in store_result\n",
      "    results[result_ind] = site_row(url)\n",
      "  File \"<ipython-input-10-fa60d633b50b>\", line 4, in site_row\n",
      "    audits(make_pagespeed_request(url)),\n",
      "  File \"<ipython-input-9-86189f674be5>\", line 2, in audits\n",
      "    audits = response.json()['lighthouseResult']['audits']\n",
      "KeyError: 'lighthouseResult'\n",
      "\n"
     ]
    },
    {
     "name": "stdout",
     "output_type": "stream",
     "text": [
      "http://www.aosmith.com\n",
      "http://www.apachecorp.com\n",
      "http://www.hermankittle.com\n",
      "http://www.apple.com/jobs\n"
     ]
    },
    {
     "name": "stderr",
     "output_type": "stream",
     "text": [
      "Exception in thread Thread-25:\n",
      "Traceback (most recent call last):\n",
      "  File \"/Users/lu/.pyenv/versions/3.7.0/lib/python3.7/threading.py\", line 917, in _bootstrap_inner\n",
      "    self.run()\n",
      "  File \"/Users/lu/.pyenv/versions/3.7.0/lib/python3.7/threading.py\", line 865, in run\n",
      "    self._target(*self._args, **self._kwargs)\n",
      "  File \"<ipython-input-11-b2a9a667430c>\", line 2, in store_result\n",
      "    results[result_ind] = site_row(url)\n",
      "  File \"<ipython-input-10-fa60d633b50b>\", line 4, in site_row\n",
      "    audits(make_pagespeed_request(url)),\n",
      "  File \"<ipython-input-9-86189f674be5>\", line 2, in audits\n",
      "    audits = response.json()['lighthouseResult']['audits']\n",
      "KeyError: 'lighthouseResult'\n",
      "\n",
      "Exception in thread Thread-27:\n",
      "Traceback (most recent call last):\n",
      "  File \"/Users/lu/.pyenv/versions/3.7.0/lib/python3.7/threading.py\", line 917, in _bootstrap_inner\n",
      "    self.run()\n",
      "  File \"/Users/lu/.pyenv/versions/3.7.0/lib/python3.7/threading.py\", line 865, in run\n",
      "    self._target(*self._args, **self._kwargs)\n",
      "  File \"<ipython-input-11-b2a9a667430c>\", line 2, in store_result\n",
      "    results[result_ind] = site_row(url)\n",
      "  File \"<ipython-input-10-fa60d633b50b>\", line 4, in site_row\n",
      "    audits(make_pagespeed_request(url)),\n",
      "  File \"<ipython-input-9-86189f674be5>\", line 2, in audits\n",
      "    audits = response.json()['lighthouseResult']['audits']\n",
      "KeyError: 'lighthouseResult'\n",
      "\n"
     ]
    },
    {
     "name": "stdout",
     "output_type": "stream",
     "text": [
      "http://www.appliedmaterials.com/\n",
      "https://www.instagram.com/aptiv\n",
      "http://www.admworld.com\n",
      "http://www.arista.com\n",
      "https://www.instagram.com/lifeatgallagher\n"
     ]
    },
    {
     "name": "stderr",
     "output_type": "stream",
     "text": [
      "Exception in thread Thread-30:\n",
      "Traceback (most recent call last):\n",
      "  File \"/Users/lu/.pyenv/versions/3.7.0/lib/python3.7/threading.py\", line 917, in _bootstrap_inner\n",
      "    self.run()\n",
      "  File \"/Users/lu/.pyenv/versions/3.7.0/lib/python3.7/threading.py\", line 865, in run\n",
      "    self._target(*self._args, **self._kwargs)\n",
      "  File \"<ipython-input-11-b2a9a667430c>\", line 2, in store_result\n",
      "    results[result_ind] = site_row(url)\n",
      "  File \"<ipython-input-10-fa60d633b50b>\", line 4, in site_row\n",
      "    audits(make_pagespeed_request(url)),\n",
      "  File \"<ipython-input-9-86189f674be5>\", line 2, in audits\n",
      "    audits = response.json()['lighthouseResult']['audits']\n",
      "KeyError: 'lighthouseResult'\n",
      "\n",
      "Exception in thread Thread-32:\n",
      "Traceback (most recent call last):\n",
      "  File \"/Users/lu/.pyenv/versions/3.7.0/lib/python3.7/threading.py\", line 917, in _bootstrap_inner\n",
      "    self.run()\n",
      "  File \"/Users/lu/.pyenv/versions/3.7.0/lib/python3.7/threading.py\", line 865, in run\n",
      "    self._target(*self._args, **self._kwargs)\n",
      "  File \"<ipython-input-11-b2a9a667430c>\", line 2, in store_result\n",
      "    results[result_ind] = site_row(url)\n",
      "  File \"<ipython-input-10-fa60d633b50b>\", line 4, in site_row\n",
      "    audits(make_pagespeed_request(url)),\n",
      "  File \"<ipython-input-9-86189f674be5>\", line 2, in audits\n",
      "    audits = response.json()['lighthouseResult']['audits']\n",
      "KeyError: 'lighthouseResult'\n",
      "\n"
     ]
    },
    {
     "name": "stdout",
     "output_type": "stream",
     "text": [
      "http://www.att.jobs\n",
      "http://www.autodesk.com/careers\n",
      "http://jobs.adp.com/\n",
      "http://www.autozone.com\n"
     ]
    },
    {
     "name": "stderr",
     "output_type": "stream",
     "text": [
      "Exception in thread Thread-33:\n",
      "Traceback (most recent call last):\n",
      "  File \"/Users/lu/.pyenv/versions/3.7.0/lib/python3.7/threading.py\", line 917, in _bootstrap_inner\n",
      "    self.run()\n",
      "  File \"/Users/lu/.pyenv/versions/3.7.0/lib/python3.7/threading.py\", line 865, in run\n",
      "    self._target(*self._args, **self._kwargs)\n",
      "  File \"<ipython-input-11-b2a9a667430c>\", line 2, in store_result\n",
      "    results[result_ind] = site_row(url)\n",
      "  File \"<ipython-input-10-fa60d633b50b>\", line 4, in site_row\n",
      "    audits(make_pagespeed_request(url)),\n",
      "  File \"<ipython-input-9-86189f674be5>\", line 2, in audits\n",
      "    audits = response.json()['lighthouseResult']['audits']\n",
      "KeyError: 'lighthouseResult'\n",
      "\n"
     ]
    },
    {
     "name": "stdout",
     "output_type": "stream",
     "text": [
      "https://www.avaloncommunities.com/\n",
      "https://www.instagram.com/averydennison\n",
      "http://www.bakerhughes.com\n",
      "http://www.ball.com\n",
      "http://www.bankofamerica.com\n",
      "https://www.bnymellon.com/careers\n"
     ]
    },
    {
     "name": "stderr",
     "output_type": "stream",
     "text": [
      "Exception in thread Thread-35:\n",
      "Traceback (most recent call last):\n",
      "  File \"/Users/lu/.pyenv/versions/3.7.0/lib/python3.7/threading.py\", line 917, in _bootstrap_inner\n",
      "    self.run()\n",
      "  File \"/Users/lu/.pyenv/versions/3.7.0/lib/python3.7/threading.py\", line 865, in run\n",
      "    self._target(*self._args, **self._kwargs)\n",
      "  File \"<ipython-input-11-b2a9a667430c>\", line 2, in store_result\n",
      "    results[result_ind] = site_row(url)\n",
      "  File \"<ipython-input-10-fa60d633b50b>\", line 4, in site_row\n",
      "    audits(make_pagespeed_request(url)),\n",
      "  File \"<ipython-input-9-86189f674be5>\", line 3, in audits\n",
      "    verify_units(audits)\n",
      "  File \"<ipython-input-7-1f69c9d81aba>\", line 10, in verify_units\n",
      "    if unit(audits[key]['displayValue']) != 's':\n",
      "KeyError: 'displayValue'\n",
      "\n"
     ]
    },
    {
     "name": "stdout",
     "output_type": "stream",
     "text": [
      "https://www.baxter.com/index.page\n",
      "http://www.bbt.com\n",
      "http://www.bd.com\n",
      "http://www.berkshirehathaway.com/\n",
      "http://www.bestbuy.com\n",
      "http://www.biogen.com/\n",
      "http://www.blackrock.com\n"
     ]
    },
    {
     "name": "stderr",
     "output_type": "stream",
     "text": [
      "Exception in thread Thread-48:\n",
      "Traceback (most recent call last):\n",
      "  File \"/Users/lu/.pyenv/versions/3.7.0/lib/python3.7/threading.py\", line 917, in _bootstrap_inner\n",
      "    self.run()\n",
      "  File \"/Users/lu/.pyenv/versions/3.7.0/lib/python3.7/threading.py\", line 865, in run\n",
      "    self._target(*self._args, **self._kwargs)\n",
      "  File \"<ipython-input-11-b2a9a667430c>\", line 2, in store_result\n",
      "    results[result_ind] = site_row(url)\n",
      "  File \"<ipython-input-10-fa60d633b50b>\", line 4, in site_row\n",
      "    audits(make_pagespeed_request(url)),\n",
      "  File \"<ipython-input-9-86189f674be5>\", line 2, in audits\n",
      "    audits = response.json()['lighthouseResult']['audits']\n",
      "KeyError: 'lighthouseResult'\n",
      "\n"
     ]
    },
    {
     "name": "stdout",
     "output_type": "stream",
     "text": [
      "http://www.hrblock.com/careers\n",
      "https://ad.doubleclick.net/ddm/clk/434071120;236532800;m?http://www.boeing.com/\n",
      "http://www.borgwarner.com/\n",
      "http://www.bostonproperties.com/\n",
      "http://www.bostonscientific.com\n",
      "http://www.bms.com\n",
      "http://www.broadcom.com\n"
     ]
    },
    {
     "name": "stderr",
     "output_type": "stream",
     "text": [
      "Exception in thread Thread-51:\n",
      "Traceback (most recent call last):\n",
      "  File \"/Users/lu/.pyenv/versions/3.7.0/lib/python3.7/threading.py\", line 917, in _bootstrap_inner\n",
      "    self.run()\n",
      "  File \"/Users/lu/.pyenv/versions/3.7.0/lib/python3.7/threading.py\", line 865, in run\n",
      "    self._target(*self._args, **self._kwargs)\n",
      "  File \"<ipython-input-11-b2a9a667430c>\", line 2, in store_result\n",
      "    results[result_ind] = site_row(url)\n",
      "  File \"<ipython-input-10-fa60d633b50b>\", line 4, in site_row\n",
      "    audits(make_pagespeed_request(url)),\n",
      "  File \"<ipython-input-9-86189f674be5>\", line 2, in audits\n",
      "    audits = response.json()['lighthouseResult']['audits']\n",
      "KeyError: 'lighthouseResult'\n",
      "\n",
      "Exception in thread Thread-44:\n",
      "Traceback (most recent call last):\n",
      "  File \"/Users/lu/.pyenv/versions/3.7.0/lib/python3.7/threading.py\", line 917, in _bootstrap_inner\n",
      "    self.run()\n",
      "  File \"/Users/lu/.pyenv/versions/3.7.0/lib/python3.7/threading.py\", line 865, in run\n",
      "    self._target(*self._args, **self._kwargs)\n",
      "  File \"<ipython-input-11-b2a9a667430c>\", line 2, in store_result\n",
      "    results[result_ind] = site_row(url)\n",
      "  File \"<ipython-input-10-fa60d633b50b>\", line 4, in site_row\n",
      "    audits(make_pagespeed_request(url)),\n",
      "  File \"<ipython-input-9-86189f674be5>\", line 3, in audits\n",
      "    verify_units(audits)\n",
      "  File \"<ipython-input-7-1f69c9d81aba>\", line 10, in verify_units\n",
      "    if unit(audits[key]['displayValue']) != 's':\n",
      "KeyError: 'displayValue'\n",
      "\n"
     ]
    },
    {
     "name": "stdout",
     "output_type": "stream",
     "text": [
      "http://www.brown-forman.com\n",
      "http://www.chrobinson.com/en/us/\n",
      "http://www.cabotog.com\n",
      "http://www.cadence.com/\n",
      "http://careers.campbellsoupcompany.com\n",
      "https://www.capitalonecareers.com/\n",
      "http://www.cardinalhealth.com\n"
     ]
    },
    {
     "name": "stderr",
     "output_type": "stream",
     "text": [
      "Exception in thread Thread-62:\n",
      "Traceback (most recent call last):\n",
      "  File \"/Users/lu/.pyenv/versions/3.7.0/lib/python3.7/threading.py\", line 917, in _bootstrap_inner\n",
      "    self.run()\n",
      "  File \"/Users/lu/.pyenv/versions/3.7.0/lib/python3.7/threading.py\", line 865, in run\n",
      "    self._target(*self._args, **self._kwargs)\n",
      "  File \"<ipython-input-11-b2a9a667430c>\", line 2, in store_result\n",
      "    results[result_ind] = site_row(url)\n",
      "  File \"<ipython-input-10-fa60d633b50b>\", line 4, in site_row\n",
      "    audits(make_pagespeed_request(url)),\n",
      "  File \"<ipython-input-9-86189f674be5>\", line 2, in audits\n",
      "    audits = response.json()['lighthouseResult']['audits']\n",
      "KeyError: 'lighthouseResult'\n",
      "\n",
      "Exception in thread Thread-61:\n",
      "Traceback (most recent call last):\n",
      "  File \"/Users/lu/.pyenv/versions/3.7.0/lib/python3.7/threading.py\", line 917, in _bootstrap_inner\n",
      "    self.run()\n",
      "  File \"/Users/lu/.pyenv/versions/3.7.0/lib/python3.7/threading.py\", line 865, in run\n",
      "    self._target(*self._args, **self._kwargs)\n",
      "  File \"<ipython-input-11-b2a9a667430c>\", line 2, in store_result\n",
      "    results[result_ind] = site_row(url)\n",
      "  File \"<ipython-input-10-fa60d633b50b>\", line 4, in site_row\n",
      "    audits(make_pagespeed_request(url)),\n",
      "  File \"<ipython-input-9-86189f674be5>\", line 2, in audits\n",
      "    audits = response.json()['lighthouseResult']['audits']\n",
      "KeyError: 'lighthouseResult'\n",
      "\n"
     ]
    },
    {
     "name": "stdout",
     "output_type": "stream",
     "text": [
      "http://www.carmax.com\n",
      "http://Caterpillar.jobs\n",
      "http://www.celanese.com\n",
      "http://www.celgene.com/\n",
      "http://www.centene.com\n",
      "http://www.centerpointenergy.com\n",
      "http://www.cerner.com/About_Cerner/Careers/\n",
      "http://www.cfindustries.com/\n",
      "https://aboutschwab.com/work-at-schwab\n",
      "https://www.spectrum.com/\n",
      "http://www.chevron.com/\n",
      "http://careers.chipotle.com\n"
     ]
    },
    {
     "name": "stderr",
     "output_type": "stream",
     "text": [
      "Exception in thread Thread-18:\n",
      "Traceback (most recent call last):\n",
      "  File \"/Users/lu/.pyenv/versions/3.7.0/lib/python3.7/threading.py\", line 917, in _bootstrap_inner\n",
      "    self.run()\n",
      "  File \"/Users/lu/.pyenv/versions/3.7.0/lib/python3.7/threading.py\", line 865, in run\n",
      "    self._target(*self._args, **self._kwargs)\n",
      "  File \"<ipython-input-11-b2a9a667430c>\", line 2, in store_result\n",
      "    results[result_ind] = site_row(url)\n",
      "  File \"<ipython-input-10-fa60d633b50b>\", line 4, in site_row\n",
      "    audits(make_pagespeed_request(url)),\n",
      "  File \"<ipython-input-9-86189f674be5>\", line 2, in audits\n",
      "    audits = response.json()['lighthouseResult']['audits']\n",
      "KeyError: 'lighthouseResult'\n",
      "\n",
      "Exception in thread Thread-19:\n",
      "Traceback (most recent call last):\n",
      "  File \"/Users/lu/.pyenv/versions/3.7.0/lib/python3.7/threading.py\", line 917, in _bootstrap_inner\n",
      "    self.run()\n",
      "  File \"/Users/lu/.pyenv/versions/3.7.0/lib/python3.7/threading.py\", line 865, in run\n",
      "    self._target(*self._args, **self._kwargs)\n",
      "  File \"<ipython-input-11-b2a9a667430c>\", line 2, in store_result\n",
      "    results[result_ind] = site_row(url)\n",
      "  File \"<ipython-input-10-fa60d633b50b>\", line 4, in site_row\n",
      "    audits(make_pagespeed_request(url)),\n",
      "  File \"<ipython-input-9-86189f674be5>\", line 3, in audits\n",
      "    verify_units(audits)\n",
      "  File \"<ipython-input-7-1f69c9d81aba>\", line 10, in verify_units\n",
      "    if unit(audits[key]['displayValue']) != 's':\n",
      "KeyError: 'displayValue'\n",
      "\n"
     ]
    },
    {
     "name": "stdout",
     "output_type": "stream",
     "text": [
      "http://www.churchdwight.com\n",
      "https://www.instagram.com/lifeatcigna\n",
      "https://www.cimarex.com/\n",
      "http://bit.ly/2ojIbOf\n",
      "https://www.instagram.com/wearecisco\n",
      "http://www.citigroup.com/citi/\n"
     ]
    },
    {
     "name": "stderr",
     "output_type": "stream",
     "text": [
      "Exception in thread Thread-79:\n",
      "Traceback (most recent call last):\n",
      "  File \"/Users/lu/.pyenv/versions/3.7.0/lib/python3.7/threading.py\", line 917, in _bootstrap_inner\n",
      "    self.run()\n",
      "  File \"/Users/lu/.pyenv/versions/3.7.0/lib/python3.7/threading.py\", line 865, in run\n",
      "    self._target(*self._args, **self._kwargs)\n",
      "  File \"<ipython-input-11-b2a9a667430c>\", line 2, in store_result\n",
      "    results[result_ind] = site_row(url)\n",
      "  File \"<ipython-input-10-fa60d633b50b>\", line 4, in site_row\n",
      "    audits(make_pagespeed_request(url)),\n",
      "  File \"<ipython-input-9-86189f674be5>\", line 2, in audits\n",
      "    audits = response.json()['lighthouseResult']['audits']\n",
      "KeyError: 'lighthouseResult'\n",
      "\n"
     ]
    },
    {
     "name": "stdout",
     "output_type": "stream",
     "text": [
      "http://jobs.citizensbank.com\n",
      "http://www.citrix.com\n"
     ]
    },
    {
     "name": "stderr",
     "output_type": "stream",
     "text": [
      "Exception in thread Thread-80:\n",
      "Traceback (most recent call last):\n",
      "  File \"/Users/lu/.pyenv/versions/3.7.0/lib/python3.7/threading.py\", line 917, in _bootstrap_inner\n",
      "    self.run()\n",
      "  File \"/Users/lu/.pyenv/versions/3.7.0/lib/python3.7/threading.py\", line 865, in run\n",
      "    self._target(*self._args, **self._kwargs)\n",
      "  File \"<ipython-input-11-b2a9a667430c>\", line 2, in store_result\n",
      "    results[result_ind] = site_row(url)\n",
      "  File \"<ipython-input-10-fa60d633b50b>\", line 4, in site_row\n",
      "    audits(make_pagespeed_request(url)),\n",
      "  File \"<ipython-input-9-86189f674be5>\", line 2, in audits\n",
      "    audits = response.json()['lighthouseResult']['audits']\n",
      "KeyError: 'lighthouseResult'\n",
      "\n"
     ]
    },
    {
     "name": "stdout",
     "output_type": "stream",
     "text": [
      "http://www.thecloroxcompany.com\n",
      "http://www.cmsenergy.com/\n",
      "http://www.enjoycareers.com/en/\n",
      "http://www.cognizant.com\n",
      "http://www.colgatepalmolive.com\n",
      "http://corporate.comcast.com/\n",
      "https://www.comerica.com\n",
      "http://www.conagrabrands.com\n",
      "http://www.concho.com\n"
     ]
    },
    {
     "name": "stderr",
     "output_type": "stream",
     "text": [
      "Exception in thread Thread-89:\n",
      "Traceback (most recent call last):\n",
      "  File \"/Users/lu/.pyenv/versions/3.7.0/lib/python3.7/threading.py\", line 917, in _bootstrap_inner\n",
      "    self.run()\n",
      "  File \"/Users/lu/.pyenv/versions/3.7.0/lib/python3.7/threading.py\", line 865, in run\n",
      "    self._target(*self._args, **self._kwargs)\n",
      "  File \"<ipython-input-11-b2a9a667430c>\", line 2, in store_result\n",
      "    results[result_ind] = site_row(url)\n",
      "  File \"<ipython-input-10-fa60d633b50b>\", line 4, in site_row\n",
      "    audits(make_pagespeed_request(url)),\n",
      "  File \"<ipython-input-9-86189f674be5>\", line 2, in audits\n",
      "    audits = response.json()['lighthouseResult']['audits']\n",
      "KeyError: 'lighthouseResult'\n",
      "\n",
      "Exception in thread Thread-42:\n",
      "Traceback (most recent call last):\n",
      "  File \"/Users/lu/.pyenv/versions/3.7.0/lib/python3.7/threading.py\", line 917, in _bootstrap_inner\n",
      "    self.run()\n",
      "  File \"/Users/lu/.pyenv/versions/3.7.0/lib/python3.7/threading.py\", line 865, in run\n",
      "    self._target(*self._args, **self._kwargs)\n",
      "  File \"<ipython-input-11-b2a9a667430c>\", line 2, in store_result\n",
      "    results[result_ind] = site_row(url)\n",
      "  File \"<ipython-input-10-fa60d633b50b>\", line 4, in site_row\n",
      "    audits(make_pagespeed_request(url)),\n",
      "  File \"<ipython-input-9-86189f674be5>\", line 2, in audits\n",
      "    audits = response.json()['lighthouseResult']['audits']\n",
      "KeyError: 'lighthouseResult'\n",
      "\n"
     ]
    },
    {
     "name": "stdout",
     "output_type": "stream",
     "text": [
      "http://www.conocophillips.com\n",
      "http://www.cbrands.com\n",
      "http://www.coopercos.com\n",
      "http://www.copart.com\n",
      "http://www.corning.com/\n",
      "http://www.costco.com.au/\n",
      "https://www.coty.com/\n",
      "http://www.crowncastle.com\n",
      "http://www.csx.com\n",
      "http://www.cummins.com\n",
      "http://jobs.cvshealth.com/\n",
      "http://www.drhorton.com\n",
      "http://www.danaher.com\n",
      "http://www.dardenrestaurants.com\n",
      "https://www.instagram.com/davitacareers\n",
      "https://delta.greatjob.net/jobs/EntryServlet?job=A02DA&media=IDC\n",
      "https://www.dentsplysirona.com/en\n",
      "http://www.devonenergy.com\n",
      "https://www.digitalrealty.com/\n",
      "http://www.mydiscovercareer.com/?vcmpgn=discover_careers\n",
      "http://www.dish.com\n"
     ]
    },
    {
     "name": "stderr",
     "output_type": "stream",
     "text": [
      "Exception in thread Thread-110:\n",
      "Traceback (most recent call last):\n",
      "  File \"/Users/lu/.pyenv/versions/3.7.0/lib/python3.7/threading.py\", line 917, in _bootstrap_inner\n",
      "    self.run()\n",
      "  File \"/Users/lu/.pyenv/versions/3.7.0/lib/python3.7/threading.py\", line 865, in run\n",
      "    self._target(*self._args, **self._kwargs)\n",
      "  File \"<ipython-input-11-b2a9a667430c>\", line 2, in store_result\n",
      "    results[result_ind] = site_row(url)\n",
      "  File \"<ipython-input-10-fa60d633b50b>\", line 4, in site_row\n",
      "    audits(make_pagespeed_request(url)),\n",
      "  File \"<ipython-input-9-86189f674be5>\", line 2, in audits\n",
      "    audits = response.json()['lighthouseResult']['audits']\n",
      "KeyError: 'lighthouseResult'\n",
      "\n"
     ]
    },
    {
     "name": "stdout",
     "output_type": "stream",
     "text": [
      "http://www.dollargeneral.com\n",
      "http://www.dollartreeinfo.com/\n",
      "http://careers.dominionenergy.com\n",
      "http://www.duke-energy.com/\n",
      "https://jobs.eastman.com/\n",
      "http://www.eaton.com\n",
      "http://www.ebayinc.com\n",
      "http://www.ecolab.com\n",
      "http://www.edwards.com\n"
     ]
    },
    {
     "name": "stderr",
     "output_type": "stream",
     "text": [
      "Exception in thread Thread-120:\n",
      "Traceback (most recent call last):\n",
      "  File \"/Users/lu/.pyenv/versions/3.7.0/lib/python3.7/threading.py\", line 917, in _bootstrap_inner\n",
      "    self.run()\n",
      "  File \"/Users/lu/.pyenv/versions/3.7.0/lib/python3.7/threading.py\", line 865, in run\n",
      "    self._target(*self._args, **self._kwargs)\n",
      "  File \"<ipython-input-11-b2a9a667430c>\", line 2, in store_result\n",
      "    results[result_ind] = site_row(url)\n",
      "  File \"<ipython-input-10-fa60d633b50b>\", line 4, in site_row\n",
      "    audits(make_pagespeed_request(url)),\n",
      "  File \"<ipython-input-9-86189f674be5>\", line 2, in audits\n",
      "    audits = response.json()['lighthouseResult']['audits']\n",
      "KeyError: 'lighthouseResult'\n",
      "\n"
     ]
    },
    {
     "name": "stdout",
     "output_type": "stream",
     "text": [
      "http://www.ea.com\n",
      "http://www.entergy-neworleans.com\n",
      "http://www.eogresources.com\n",
      "https://www.equifax.com/about-equifax/careers\n",
      "http://www.equinix.com\n",
      "http://www.breproperties.com\n",
      "http://www.eversource.com/\n",
      "http://www.exeloncorp.com/Pages/home.aspx\n",
      "https://lifeatexpedia.com/\n",
      "http://www.expeditors.com/\n",
      "https://www.extraspace.com/\n",
      "https://corporate.exxonmobil.com/\n",
      "http://www.f5.com\n",
      "http://www.facebook.com\n",
      "http://www.fastenal.com\n",
      "http://www.federalrealty.com\n",
      "http://www.fedex.com/\n",
      "http://www.fnf.com\n",
      "http://www.53.com\n",
      "http://www.firstenergycorp.com/\n",
      "https://www.instagram.com/fiserv\n",
      "http://www.flowserve.com\n",
      "http://www.fluor.com\n",
      "http://www.fmc.com\n",
      "http://www.footlocker-inc.com\n",
      "http://corporate.ford.com/homepage.html\n"
     ]
    },
    {
     "name": "stderr",
     "output_type": "stream",
     "text": [
      "Exception in thread Thread-144:\n",
      "Traceback (most recent call last):\n",
      "  File \"/Users/lu/.pyenv/versions/3.7.0/lib/python3.7/threading.py\", line 917, in _bootstrap_inner\n",
      "    self.run()\n",
      "  File \"/Users/lu/.pyenv/versions/3.7.0/lib/python3.7/threading.py\", line 865, in run\n",
      "    self._target(*self._args, **self._kwargs)\n",
      "  File \"<ipython-input-11-b2a9a667430c>\", line 2, in store_result\n",
      "    results[result_ind] = site_row(url)\n",
      "  File \"<ipython-input-10-fa60d633b50b>\", line 4, in site_row\n",
      "    audits(make_pagespeed_request(url)),\n",
      "  File \"<ipython-input-9-86189f674be5>\", line 2, in audits\n",
      "    audits = response.json()['lighthouseResult']['audits']\n",
      "KeyError: 'lighthouseResult'\n",
      "\n"
     ]
    },
    {
     "name": "stdout",
     "output_type": "stream",
     "text": [
      "http://www.fortinet.com\n",
      "http://www.fortive.com\n"
     ]
    },
    {
     "name": "stderr",
     "output_type": "stream",
     "text": [
      "Exception in thread Thread-147:\n",
      "Traceback (most recent call last):\n",
      "  File \"/Users/lu/.pyenv/versions/3.7.0/lib/python3.7/threading.py\", line 917, in _bootstrap_inner\n",
      "    self.run()\n",
      "  File \"/Users/lu/.pyenv/versions/3.7.0/lib/python3.7/threading.py\", line 865, in run\n",
      "    self._target(*self._args, **self._kwargs)\n",
      "  File \"<ipython-input-11-b2a9a667430c>\", line 2, in store_result\n",
      "    results[result_ind] = site_row(url)\n",
      "  File \"<ipython-input-10-fa60d633b50b>\", line 4, in site_row\n",
      "    audits(make_pagespeed_request(url)),\n",
      "  File \"<ipython-input-9-86189f674be5>\", line 2, in audits\n",
      "    audits = response.json()['lighthouseResult']['audits']\n",
      "KeyError: 'lighthouseResult'\n",
      "\n"
     ]
    },
    {
     "name": "stdout",
     "output_type": "stream",
     "text": [
      "http://www.fbhs.com/\n",
      "http://www.franklintempletoncareers.com\n",
      "http://www.fcx.com\n",
      "http://www.gapinc.com/\n",
      "http://www.garmin.com\n",
      "https://jobs.gartner.com/\n",
      "http://www.gdit.com\n",
      "http://www.ge.com/\n",
      "http://www.generalmills.com\n",
      "http://gm.com\n",
      "http://www.gilead.com\n",
      "http://www.goldmansachs.com\n",
      "http://www.goodyear.com\n",
      "http://www.grainger.com\n",
      "http://www.halliburton.com\n",
      "https://www.instagram.com/hanesbrands_careers\n",
      "http://www.h-d.com\n",
      "http://www.harris.com\n",
      "http://www.hasbro.com\n"
     ]
    },
    {
     "name": "stderr",
     "output_type": "stream",
     "text": [
      "Exception in thread Thread-142:\n",
      "Traceback (most recent call last):\n",
      "  File \"/Users/lu/.pyenv/versions/3.7.0/lib/python3.7/threading.py\", line 917, in _bootstrap_inner\n",
      "    self.run()\n",
      "  File \"/Users/lu/.pyenv/versions/3.7.0/lib/python3.7/threading.py\", line 865, in run\n",
      "    self._target(*self._args, **self._kwargs)\n",
      "  File \"<ipython-input-11-b2a9a667430c>\", line 2, in store_result\n",
      "    results[result_ind] = site_row(url)\n",
      "  File \"<ipython-input-10-fa60d633b50b>\", line 4, in site_row\n",
      "    audits(make_pagespeed_request(url)),\n",
      "  File \"<ipython-input-9-86189f674be5>\", line 2, in audits\n",
      "    audits = response.json()['lighthouseResult']['audits']\n",
      "KeyError: 'lighthouseResult'\n",
      "\n"
     ]
    },
    {
     "name": "stdout",
     "output_type": "stream",
     "text": [
      "http://www.hpinc.com\n",
      "http://www.henryschein.com\n",
      "http://www.hersheys.com\n",
      "http://www.hess.com\n",
      "http://careers.hpe.com/\n",
      "http://jobs.hilton.com\n",
      "http://www.hollyfrontier.com/\n",
      "http://hologic.com\n",
      "http://www.homedepot.com\n",
      "http://www.honeywell.com\n",
      "http://www.hormelfoods.com/\n",
      "http://www.hosthotels.com\n",
      "http://www.hp.com/jobs\n",
      "https://www.humana.com/\n",
      "http://www.huntingtoningalls.com/\n",
      "http://www.idexx.com\n",
      "https://ihsmarkit.com/index.html\n",
      "https://www.illumina.com/company/careers.html\n",
      "http://company.ingersollrand.com/ircorp/en/index.html\n",
      "http://www.intel.com/\n",
      "http://www.ibm.com\n",
      "http://www.incyte.com\n",
      "http://www.ipaper.com\n",
      "http://www.interpublic.com/\n",
      "http://www.intuit.com/\n",
      "http://www.invesco.com\n",
      "http://www.ironmountain.com\n",
      "http://www.jackhenry.com\n",
      "http://www.jacobs.com/\n",
      "http://www.jbhunt.jobs\n",
      "http://www.jmsmucker.com/\n",
      "http://www.jnj.com/\n",
      "http://www.johnsoncontrols.com/careers\n",
      "http://www.jpmorganchase.com\n",
      "http://www.kcsouthern.com\n",
      "http://www.kelloggcareers.com/global/home.html\n",
      "http://www.key.com\n",
      "http://www.keysight.com\n",
      "http://www.kimberly-clark.com\n",
      "http://www.kimcorealty.com\n",
      "http://www.kindermorgan.com\n",
      "https://www.instagram.com/lifeatkohls\n",
      "http://www.kraftheinzcompany.com\n",
      "http://www.kroger.com/\n",
      "http://www.lb.com/\n",
      "http://www.lamresearch.com/\n",
      "http://www.leggett.com\n",
      "http://www.lennar.com/\n",
      "http://www.lilly.com\n",
      "http://www.lincolnfinancial.com\n",
      "http://www.linde.com/en/index.html\n",
      "http://www.lkqcorp.com\n",
      "http://www.loews.com\n",
      "https://www.instagram.com/lowescareers\n",
      "http://www.lyondellbasell.com\n",
      "http://www.macerich.com\n",
      "https://www.instagram.com/lifeatmacys\n",
      "http://www.marathon.com\n",
      "http://www.marathon.com\n",
      "http://www.marriott.com/careers\n",
      "http://www.mmc.com\n",
      "http://www.mattel.com\n"
     ]
    },
    {
     "name": "stderr",
     "output_type": "stream",
     "text": [
      "Exception in thread Thread-141:\n",
      "Traceback (most recent call last):\n",
      "  File \"/Users/lu/.pyenv/versions/3.7.0/lib/python3.7/threading.py\", line 917, in _bootstrap_inner\n",
      "    self.run()\n",
      "  File \"/Users/lu/.pyenv/versions/3.7.0/lib/python3.7/threading.py\", line 865, in run\n",
      "    self._target(*self._args, **self._kwargs)\n",
      "  File \"<ipython-input-11-b2a9a667430c>\", line 2, in store_result\n",
      "    results[result_ind] = site_row(url)\n",
      "  File \"<ipython-input-10-fa60d633b50b>\", line 4, in site_row\n",
      "    audits(make_pagespeed_request(url)),\n",
      "  File \"<ipython-input-9-86189f674be5>\", line 3, in audits\n",
      "    verify_units(audits)\n",
      "  File \"<ipython-input-7-1f69c9d81aba>\", line 10, in verify_units\n",
      "    if unit(audits[key]['displayValue']) != 's':\n",
      "KeyError: 'displayValue'\n",
      "\n"
     ]
    },
    {
     "name": "stdout",
     "output_type": "stream",
     "text": [
      "http://www.mccormickcorporation.com/\n",
      "http://www.maximintegrated.com\n",
      "https://careers.mcdonalds.com/corporate/index.jsp\n",
      "https://www.instagram.com/mckessoncorporation\n",
      "http://www.medtronic.com/\n",
      "http://www.merck.com/careers/\n",
      "https://www.metlife.com/\n",
      "http://www.mt.com/us/en/home.html\n",
      "https://www.mgmresorts.com/en/company/careers.html\n",
      "http://www.microchip.com/\n",
      "http://www.micron.com\n",
      "http://www.microsoft.com/\n",
      "http://www.mohawkcareers.com\n",
      "http://www.molsoncoors.com\n",
      "http://www.mondelezinternational.com/\n",
      "http://www.monsterenergy.com\n",
      "https://www.moodys.com/\n",
      "http://www.morganstanley.com\n",
      "http://www.mosaicco.com\n",
      "http://careers.motorolasolutions.com/\n",
      "http://www.mylan.com\n",
      "http://www.nasdaqomx.com\n",
      "http://www.nov.com\n",
      "https://www.instagram.com/netapp\n",
      "http://www.netflix.com\n",
      "http://www.newellbrands.com\n",
      "http://www.newfield.com\n",
      "http://www.newmont.com\n",
      "http://www.nexteraenergy.com/\n",
      "https://www.instagram.com/nielsenpics\n",
      "http://jobs.nike.com\n",
      "http://www.nisource.com\n",
      "http://www.nobleenergyinc.com\n",
      "http://www.nordstrom.com\n",
      "https://www.instagram.com/careersatns\n",
      "http://www.northerntrust.com\n",
      "http://www.northropgrumman.com\n",
      "http://www.nrg.com/\n",
      "http://www.nucor.com\n",
      "http://www.nvidia.com/\n"
     ]
    },
    {
     "name": "stderr",
     "output_type": "stream",
     "text": [
      "Exception in thread Thread-219:\n",
      "Traceback (most recent call last):\n",
      "  File \"/Users/lu/.pyenv/versions/3.7.0/lib/python3.7/threading.py\", line 917, in _bootstrap_inner\n",
      "    self.run()\n",
      "  File \"/Users/lu/.pyenv/versions/3.7.0/lib/python3.7/threading.py\", line 865, in run\n",
      "    self._target(*self._args, **self._kwargs)\n",
      "  File \"<ipython-input-11-b2a9a667430c>\", line 2, in store_result\n",
      "    results[result_ind] = site_row(url)\n",
      "  File \"<ipython-input-10-fa60d633b50b>\", line 4, in site_row\n",
      "    audits(make_pagespeed_request(url)),\n",
      "  File \"<ipython-input-9-86189f674be5>\", line 2, in audits\n",
      "    audits = response.json()['lighthouseResult']['audits']\n",
      "KeyError: 'lighthouseResult'\n",
      "\n"
     ]
    },
    {
     "name": "stdout",
     "output_type": "stream",
     "text": [
      "https://corporate.oreillyauto.com/onlineapplication/careerpage\n",
      "http://www.oxy.com\n",
      "http://www.omnicomgroup.com/\n",
      "http://www.oneok.com\n",
      "https://www.instagram.com/exploreoracle\n",
      "http://www.paccar.com\n",
      "https://www.instagram.com/parkerhannifin\n",
      "https://www.instagram.com/insidepaychex\n",
      "http://www.Pentair.com\n",
      "http://www.peoples.com\n",
      "http://www.pepsico.com\n",
      "https://www.linkedin.com/company/perkinelmer/\n",
      "http://www.perrigo.com\n",
      "http://www.pfizer.com\n",
      "http://phillips66.jobs\n",
      "http://www.pxd.com/\n"
     ]
    },
    {
     "name": "stderr",
     "output_type": "stream",
     "text": [
      "Exception in thread Thread-273:\n",
      "Traceback (most recent call last):\n",
      "  File \"/Users/lu/.pyenv/versions/3.7.0/lib/python3.7/threading.py\", line 917, in _bootstrap_inner\n",
      "    self.run()\n",
      "  File \"/Users/lu/.pyenv/versions/3.7.0/lib/python3.7/threading.py\", line 865, in run\n",
      "    self._target(*self._args, **self._kwargs)\n",
      "  File \"<ipython-input-11-b2a9a667430c>\", line 2, in store_result\n",
      "    results[result_ind] = site_row(url)\n",
      "  File \"<ipython-input-10-fa60d633b50b>\", line 4, in site_row\n",
      "    audits(make_pagespeed_request(url)),\n",
      "  File \"<ipython-input-9-86189f674be5>\", line 2, in audits\n",
      "    audits = response.json()['lighthouseResult']['audits']\n",
      "KeyError: 'lighthouseResult'\n",
      "\n"
     ]
    },
    {
     "name": "stdout",
     "output_type": "stream",
     "text": [
      "http://ppg.com\n",
      "http://www.principal.com\n",
      "https://www.prologis.com/\n",
      "http://www.prudential.com\n",
      "http://www.publicstorage.com\n",
      "http://www.pultegroupinc.com/\n",
      "https://www.pvh.com\n",
      "http://www.quantaservices.com/\n",
      "https://www.qualcomm.com/company/careers\n"
     ]
    },
    {
     "name": "stderr",
     "output_type": "stream",
     "text": [
      "Exception in thread Thread-295:\n",
      "Traceback (most recent call last):\n",
      "  File \"/Users/lu/.pyenv/versions/3.7.0/lib/python3.7/threading.py\", line 917, in _bootstrap_inner\n",
      "    self.run()\n",
      "  File \"/Users/lu/.pyenv/versions/3.7.0/lib/python3.7/threading.py\", line 865, in run\n",
      "    self._target(*self._args, **self._kwargs)\n",
      "  File \"<ipython-input-11-b2a9a667430c>\", line 2, in store_result\n",
      "    results[result_ind] = site_row(url)\n",
      "  File \"<ipython-input-10-fa60d633b50b>\", line 4, in site_row\n",
      "    audits(make_pagespeed_request(url)),\n",
      "  File \"<ipython-input-9-86189f674be5>\", line 2, in audits\n",
      "    audits = response.json()['lighthouseResult']['audits']\n",
      "KeyError: 'lighthouseResult'\n",
      "\n"
     ]
    },
    {
     "name": "stdout",
     "output_type": "stream",
     "text": [
      "http://www.questdiagnostics.com\n",
      "http://www.raytheon.com\n",
      "http://www.realtyincome.com\n",
      "http://www.regeneron.com\n",
      "http://www.regions.com/\n",
      "http://republicservices.com\n",
      "http://www.resmed.com\n",
      "http://www.rockwellautomation.com\n",
      "http://www.rollins.com/\n"
     ]
    },
    {
     "name": "stderr",
     "output_type": "stream",
     "text": [
      "Exception in thread Thread-249:\n",
      "Traceback (most recent call last):\n",
      "  File \"/Users/lu/.pyenv/versions/3.7.0/lib/python3.7/threading.py\", line 917, in _bootstrap_inner\n",
      "    self.run()\n",
      "  File \"/Users/lu/.pyenv/versions/3.7.0/lib/python3.7/threading.py\", line 865, in run\n",
      "    self._target(*self._args, **self._kwargs)\n",
      "  File \"<ipython-input-11-b2a9a667430c>\", line 2, in store_result\n",
      "    results[result_ind] = site_row(url)\n",
      "  File \"<ipython-input-10-fa60d633b50b>\", line 4, in site_row\n",
      "    audits(make_pagespeed_request(url)),\n",
      "  File \"<ipython-input-9-86189f674be5>\", line 2, in audits\n",
      "    audits = response.json()['lighthouseResult']['audits']\n",
      "KeyError: 'lighthouseResult'\n",
      "\n"
     ]
    },
    {
     "name": "stdout",
     "output_type": "stream",
     "text": [
      "http://www.ropertech.com\n",
      "http://www.rossstores.com\n",
      "http://www.sbasite.com\n",
      "http://careers.slb.com/\n",
      "https://www.instagram.com/seagate_careers\n",
      "http://www.sealedair.com\n"
     ]
    },
    {
     "name": "stderr",
     "output_type": "stream",
     "text": [
      "Exception in thread Thread-254:\n",
      "Traceback (most recent call last):\n",
      "  File \"/Users/lu/.pyenv/versions/3.7.0/lib/python3.7/threading.py\", line 917, in _bootstrap_inner\n",
      "    self.run()\n",
      "  File \"/Users/lu/.pyenv/versions/3.7.0/lib/python3.7/threading.py\", line 865, in run\n",
      "    self._target(*self._args, **self._kwargs)\n",
      "  File \"<ipython-input-11-b2a9a667430c>\", line 2, in store_result\n",
      "    results[result_ind] = site_row(url)\n",
      "  File \"<ipython-input-10-fa60d633b50b>\", line 4, in site_row\n",
      "    audits(make_pagespeed_request(url)),\n",
      "  File \"<ipython-input-9-86189f674be5>\", line 2, in audits\n",
      "    audits = response.json()['lighthouseResult']['audits']\n",
      "KeyError: 'lighthouseResult'\n",
      "\n"
     ]
    },
    {
     "name": "stdout",
     "output_type": "stream",
     "text": [
      "http://www.sempra.com\n",
      "http://www.sherwin-williams.com/\n",
      "https://business.simon.com/\n",
      "http://www.skyworksinc.com/\n",
      "http://slgreen.com\n",
      "http://www.snapon.com\n",
      "http://www.southwest.com/careers\n",
      "http://www.stanleyblackanddecker.com/\n",
      "http://www.starbucks.com/career-center\n",
      "http://www.statestreet.com/\n",
      "https://www.suntrust.com/\n",
      "http://www.symantec.com\n",
      "http://www.syfcareers.com\n",
      "https://www.instagram.com/t._rowe_price\n",
      "https://www.take2games.com\n",
      "http://www.target.com/\n",
      "http://TE.com/careers\n",
      "http://www.ti.com\n",
      "http://www.textron.com\n",
      "http://adtrk.tw/BUPe\n",
      "http://www.tiffany.com\n",
      "http://www.twitter.com\n",
      "http://www.tractorsupply.com\n",
      "http://www.transdigm.com/\n",
      "http://www.travelers.com\n",
      "https://www.instagram.com/gotripadvisor\n",
      "https://www.tysonfoods.com\n",
      "http://www.udr.com/\n",
      "http://www.ulta.com\n",
      "http://usbank.com/\n",
      "https://www.instagram.com/upjobs\n",
      "https://ad.doubleclick.net/ddm/clk/318572457;147092162;j?https://www.jobs-ups.com//?Howheard=P4889&utm_source=indeed.com&utm_campaign=nationwide&utm_medium=job_aggregator&utm_content=profile&ss=paid\n",
      "http://www.utc.com/\n",
      "http://www.uhsinc.com/\n",
      "http://www.unum.com\n",
      "http://www.vfc.com\n",
      "http://www.valero.com\n",
      "http://www.varian.com\n",
      "http://www.symantec.com\n",
      "http://www.verizon.com\n",
      "http://www.vrtx.com\n",
      "https://www.instagram.com/lifeatvisa\n",
      "http://www.vno.com\n",
      "https://careers.walmart.com/\n",
      "http://thewaltdisneycompany.com\n",
      "http://www.wm.com\n",
      "http://www.waters.com\n",
      "https://www.wecenergygroup.com/\n",
      "https://www.wellcare.com/"
     ]
    },
    {
     "name": "stderr",
     "output_type": "stream",
     "text": [
      "Exception in thread Thread-195:\n",
      "Traceback (most recent call last):\n",
      "  File \"/Users/lu/.pyenv/versions/3.7.0/lib/python3.7/threading.py\", line 917, in _bootstrap_inner\n",
      "    self.run()\n",
      "  File \"/Users/lu/.pyenv/versions/3.7.0/lib/python3.7/threading.py\", line 865, in run\n",
      "    self._target(*self._args, **self._kwargs)\n",
      "  File \"<ipython-input-11-b2a9a667430c>\", line 2, in store_result\n",
      "    results[result_ind] = site_row(url)\n",
      "  File \"<ipython-input-10-fa60d633b50b>\", line 4, in site_row\n",
      "    audits(make_pagespeed_request(url)),\n",
      "  File \"<ipython-input-9-86189f674be5>\", line 2, in audits\n",
      "    audits = response.json()['lighthouseResult']['audits']\n",
      "KeyError: 'lighthouseResult'\n",
      "\n"
     ]
    },
    {
     "name": "stdout",
     "output_type": "stream",
     "text": [
      "\n",
      "http://www.wellsfargo.com\n",
      "http://www.wdc.com\n",
      "https://www.westrock.com/\n",
      "http://www.weyerhaeuser.com\n",
      "http://www.whirlpoolcorp.com\n",
      "https://www.instagram.com/willistowerswatson\n",
      "http://www.wynnresorts.com\n",
      "http://www.xcelenergy.com\n",
      "http://www.xerox.com\n",
      "http://www.xilinx.com\n",
      "http://www.yum.com\n",
      "https://www.zimmerbiomet.com/\n",
      "http://www.zionsbancorporation.com\n",
      "http://www.zoetis.com/\n"
     ]
    },
    {
     "name": "stderr",
     "output_type": "stream",
     "text": [
      "Exception in thread Thread-248:\n",
      "Traceback (most recent call last):\n",
      "  File \"/Users/lu/.pyenv/versions/3.7.0/lib/python3.7/threading.py\", line 917, in _bootstrap_inner\n",
      "    self.run()\n",
      "  File \"/Users/lu/.pyenv/versions/3.7.0/lib/python3.7/threading.py\", line 865, in run\n",
      "    self._target(*self._args, **self._kwargs)\n",
      "  File \"<ipython-input-11-b2a9a667430c>\", line 2, in store_result\n",
      "    results[result_ind] = site_row(url)\n",
      "  File \"<ipython-input-10-fa60d633b50b>\", line 4, in site_row\n",
      "    audits(make_pagespeed_request(url)),\n",
      "  File \"<ipython-input-9-86189f674be5>\", line 2, in audits\n",
      "    audits = response.json()['lighthouseResult']['audits']\n",
      "KeyError: 'lighthouseResult'\n",
      "\n",
      "Exception in thread Thread-385:\n",
      "Traceback (most recent call last):\n",
      "  File \"/Users/lu/.pyenv/versions/3.7.0/lib/python3.7/threading.py\", line 917, in _bootstrap_inner\n",
      "    self.run()\n",
      "  File \"/Users/lu/.pyenv/versions/3.7.0/lib/python3.7/threading.py\", line 865, in run\n",
      "    self._target(*self._args, **self._kwargs)\n",
      "  File \"<ipython-input-11-b2a9a667430c>\", line 2, in store_result\n",
      "    results[result_ind] = site_row(url)\n",
      "  File \"<ipython-input-10-fa60d633b50b>\", line 4, in site_row\n",
      "    audits(make_pagespeed_request(url)),\n",
      "  File \"<ipython-input-9-86189f674be5>\", line 3, in audits\n",
      "    verify_units(audits)\n",
      "  File \"<ipython-input-7-1f69c9d81aba>\", line 10, in verify_units\n",
      "    if unit(audits[key]['displayValue']) != 's':\n",
      "KeyError: 'displayValue'\n",
      "\n",
      "Exception in thread Thread-214:\n",
      "Traceback (most recent call last):\n",
      "  File \"/Users/lu/.pyenv/versions/3.7.0/lib/python3.7/threading.py\", line 917, in _bootstrap_inner\n",
      "    self.run()\n",
      "  File \"/Users/lu/.pyenv/versions/3.7.0/lib/python3.7/threading.py\", line 865, in run\n",
      "    self._target(*self._args, **self._kwargs)\n",
      "  File \"<ipython-input-11-b2a9a667430c>\", line 2, in store_result\n",
      "    results[result_ind] = site_row(url)\n",
      "  File \"<ipython-input-10-fa60d633b50b>\", line 4, in site_row\n",
      "    audits(make_pagespeed_request(url)),\n",
      "  File \"<ipython-input-9-86189f674be5>\", line 2, in audits\n",
      "    audits = response.json()['lighthouseResult']['audits']\n",
      "KeyError: 'lighthouseResult'\n",
      "\n"
     ]
    }
   ],
   "source": [
    "trunced_companies = companies[:TRUNCATE_COMPANIES]\n",
    "\n",
    "urls = list(trunced_companies['url'])\n",
    "result_len = len(trunced_companies)\n",
    "threads = []\n",
    "results = [None] * result_len\n",
    "for result_ind in range(result_len):\n",
    "    thread = Thread(\n",
    "        target=store_result,\n",
    "        args=(results, result_ind, urls[result_ind])\n",
    "    )\n",
    "    threads.append(thread)\n",
    "    thread.start()\n",
    "    time.sleep(0.2)\n",
    "\n",
    "for thread in threads:\n",
    "    thread.join()\n",
    "\n",
    "# results = [\n",
    "#     site_row(url)\n",
    "#     for url in trunced_companies['url']\n",
    "# ]"
   ]
  },
  {
   "cell_type": "code",
   "execution_count": 17,
   "metadata": {},
   "outputs": [],
   "source": [
    "results = [r for r in results if r is not None]"
   ]
  },
  {
   "cell_type": "code",
   "execution_count": 18,
   "metadata": {},
   "outputs": [],
   "source": [
    "with open(f'{PAGESPEED_RESULTS_DIR}/{fetch_id}', 'w') as results_file:\n",
    "    csv_writer = csv.writer(results_file)\n",
    "    csv_writer.writerow(RESULT_KEYS)\n",
    "    csv_writer.writerows([\n",
    "        [result[key] for key in RESULT_KEYS]\n",
    "        for result in results\n",
    "    ])"
   ]
  },
  {
   "cell_type": "code",
   "execution_count": 19,
   "metadata": {},
   "outputs": [],
   "source": [
    "with open(LOG_FILENAME, 'a') as log:\n",
    "    csv_writer = csv.writer(log)\n",
    "    csv_writer.writerow([fetch_id, datetime.datetime.now()])"
   ]
  },
  {
   "cell_type": "code",
   "execution_count": null,
   "metadata": {},
   "outputs": [],
   "source": []
  }
 ],
 "metadata": {
  "kernelspec": {
   "display_name": "Python 3",
   "language": "python",
   "name": "python3"
  },
  "language_info": {
   "codemirror_mode": {
    "name": "ipython",
    "version": 3
   },
   "file_extension": ".py",
   "mimetype": "text/x-python",
   "name": "python",
   "nbconvert_exporter": "python",
   "pygments_lexer": "ipython3",
   "version": "3.7.0"
  }
 },
 "nbformat": 4,
 "nbformat_minor": 2
}
