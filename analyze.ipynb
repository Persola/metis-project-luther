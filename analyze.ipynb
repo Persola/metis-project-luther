{
 "cells": [
  {
   "cell_type": "code",
   "execution_count": 2,
   "metadata": {},
   "outputs": [],
   "source": [
    "import pandas as pd\n",
    "from pathlib import Path"
   ]
  },
  {
   "cell_type": "code",
   "execution_count": 5,
   "metadata": {},
   "outputs": [],
   "source": [
    "PAGESPEED_RESULTS_DIR = 'pagespeed_results'\n",
    "INDEED_RATINGS_DIR = 'indeed_ratings'"
   ]
  },
  {
   "cell_type": "code",
   "execution_count": 3,
   "metadata": {},
   "outputs": [],
   "source": [
    "def last_modified_path(dir_name):\n",
    "    paths = Path(dir_name).glob('*')\n",
    "    return max(paths, key=lambda path: path.stat().st_ctime)"
   ]
  },
  {
   "cell_type": "code",
   "execution_count": 10,
   "metadata": {},
   "outputs": [],
   "source": [
    "# defaulting to most recent data\n",
    "pagespeed_results = pd.read_csv(last_modified_path(PAGESPEED_RESULTS_DIR))\n",
    "indeed_ratings = pd.read_csv(last_modified_path(INDEED_RATINGS_DIR))"
   ]
  }
 ],
 "metadata": {
  "kernelspec": {
   "display_name": "Python 3",
   "language": "python",
   "name": "python3"
  },
  "language_info": {
   "codemirror_mode": {
    "name": "ipython",
    "version": 3
   },
   "file_extension": ".py",
   "mimetype": "text/x-python",
   "name": "python",
   "nbconvert_exporter": "python",
   "pygments_lexer": "ipython3",
   "version": "3.7.0"
  }
 },
 "nbformat": 4,
 "nbformat_minor": 2
}
