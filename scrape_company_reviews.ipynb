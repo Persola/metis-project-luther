{
 "cells": [
  {
   "cell_type": "code",
   "execution_count": 49,
   "metadata": {},
   "outputs": [],
   "source": [
    "import uuid\n",
    "import pandas as pd\n",
    "import requests\n",
    "from bs4 import BeautifulSoup\n",
    "import csv\n",
    "import datetime"
   ]
  },
  {
   "cell_type": "code",
   "execution_count": 51,
   "metadata": {},
   "outputs": [],
   "source": [
    "COMPANIES_FILENAME = 'top_ten.csv'\n",
    "INDEED_BASE_URL = 'https://www.indeed.com/cmp'\n",
    "INDEED_RATINGS_DIR = 'indeed_ratings'\n",
    "LOG_FILENAME = 'data_acquisition_log'"
   ]
  },
  {
   "cell_type": "code",
   "execution_count": 35,
   "metadata": {},
   "outputs": [],
   "source": [
    "scrape_id = str(uuid.uuid4())"
   ]
  },
  {
   "cell_type": "code",
   "execution_count": 36,
   "metadata": {},
   "outputs": [],
   "source": [
    "company_names = pd.read_csv(COMPANIES_FILENAME)['name']"
   ]
  },
  {
   "cell_type": "code",
   "execution_count": 37,
   "metadata": {},
   "outputs": [],
   "source": [
    "def query_indeed(company_name):\n",
    "    return requests.get(\n",
    "        url=INDEED_BASE_URL,\n",
    "        params={'q': company_name}\n",
    "    )"
   ]
  },
  {
   "cell_type": "code",
   "execution_count": 38,
   "metadata": {},
   "outputs": [],
   "source": [
    "result_pagetexts = [\n",
    "    query_indeed(company_name)\n",
    "    for company_name in company_names\n",
    "]"
   ]
  },
  {
   "cell_type": "code",
   "execution_count": 39,
   "metadata": {},
   "outputs": [],
   "source": [
    "result_soups = [\n",
    "    BeautifulSoup(result_pagetext.text, 'lxml')\n",
    "    for result_pagetext in result_pagetexts\n",
    "]"
   ]
  },
  {
   "cell_type": "code",
   "execution_count": 40,
   "metadata": {},
   "outputs": [],
   "source": [
    "def extract_rating(soup):\n",
    "    return soup.find(\n",
    "        'div',\n",
    "        {'class': 'icl-Ratings-rating'}\n",
    "    ).text"
   ]
  },
  {
   "cell_type": "code",
   "execution_count": 41,
   "metadata": {},
   "outputs": [],
   "source": [
    "ratings = [\n",
    "    extract_rating(soup)\n",
    "    for soup in result_soups\n",
    "]"
   ]
  },
  {
   "cell_type": "code",
   "execution_count": 43,
   "metadata": {
    "scrolled": true
   },
   "outputs": [],
   "source": [
    "names_to_ratings = zip(company_names, ratings)"
   ]
  },
  {
   "cell_type": "code",
   "execution_count": 47,
   "metadata": {},
   "outputs": [],
   "source": [
    "with open(f'{INDEED_RATINGS_DIR}/{scrape_id}', 'w') as results_file:\n",
    "    csv_writer = csv.writer(results_file)\n",
    "    csv_writer.writerow(['name', 'rating'])\n",
    "    csv_writer.writerows([\n",
    "        [name, rating]\n",
    "        for name, rating in names_to_ratings\n",
    "    ])"
   ]
  },
  {
   "cell_type": "code",
   "execution_count": 52,
   "metadata": {},
   "outputs": [],
   "source": [
    "with open(LOG_FILENAME, 'w') as log:\n",
    "    csv_writer = csv.writer(log)\n",
    "    csv_writer.writerow([scrape_id, datetime.datetime.now()])"
   ]
  }
 ],
 "metadata": {
  "kernelspec": {
   "display_name": "Python 3",
   "language": "python",
   "name": "python3"
  },
  "language_info": {
   "codemirror_mode": {
    "name": "ipython",
    "version": 3
   },
   "file_extension": ".py",
   "mimetype": "text/x-python",
   "name": "python",
   "nbconvert_exporter": "python",
   "pygments_lexer": "ipython3",
   "version": "3.7.0"
  }
 },
 "nbformat": 4,
 "nbformat_minor": 2
}
